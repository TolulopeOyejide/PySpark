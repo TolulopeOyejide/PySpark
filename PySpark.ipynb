{
  "nbformat": 4,
  "nbformat_minor": 0,
  "metadata": {
    "colab": {
      "provenance": [],
      "authorship_tag": "ABX9TyPT6a2AF4reVuagfUXRRrpO",
      "include_colab_link": true
    },
    "kernelspec": {
      "name": "python3",
      "display_name": "Python 3"
    },
    "language_info": {
      "name": "python"
    }
  },
  "cells": [
    {
      "cell_type": "markdown",
      "metadata": {
        "id": "view-in-github",
        "colab_type": "text"
      },
      "source": [
        "<a href=\"https://colab.research.google.com/github/TolulopeOyejide/PySpark/blob/main/PySpark.ipynb\" target=\"_parent\"><img src=\"https://colab.research.google.com/assets/colab-badge.svg\" alt=\"Open In Colab\"/></a>"
      ]
    },
    {
      "cell_type": "markdown",
      "source": [
        "[PySpark](https://sparkbyexamples.com/pyspark/pyspark-with-sql-server-read-and-write-table/)"
      ],
      "metadata": {
        "id": "fdgsW7C-bfHi"
      }
    },
    {
      "cell_type": "markdown",
      "source": [
        "# **PySpark Connector For SQL Server**\n",
        "\n",
        "\n",
        "Must-have details:\n",
        "1. Driver to use (I will provide this)\n",
        "2. SQL server address & port\n",
        "3. Database name\n",
        "4. Table name\n",
        "5. User name and Password.\n",
        "\n",
        "Steps to connect pyspark to sql server, and read and write:\n",
        "- Step 1- Identify the PySpark SQL Connector version to use\n",
        "- Step 2- Add the dependency\n",
        "- Step 3- Create SparkSession & Dataframe\n",
        "- Step 4- Save PySpark DataFrame to SQL Server Table\n",
        "- Step 5- Read SQL Table to PySpark Dataframe\n",
        "\n",
        "\n",
        "The connector works for both:\n",
        "1. SQL server on-prem.\n",
        "2. Azure SQL.\n",
        "\n",
        "The following are the above connectors:\n",
        "1. Spark 2.4.x  (version 1.0.2)\n",
        "2. Spark 3.0.x  (Version 1.1.0)\n",
        "3. Spark 3.1.x  (Version 1.2.)\n",
        "\n",
        "You can find the all available PySpark Microsoft SQL (Mssql) connectors at https://search.maven.org/search?q=spark-mssql-connector\n",
        "\n",
        "\n",
        "\n"
      ],
      "metadata": {
        "id": "sdvI4UTJb6VR"
      }
    },
    {
      "cell_type": "code",
      "source": [],
      "metadata": {
        "id": "wAEtTLDQieKT"
      },
      "execution_count": null,
      "outputs": []
    },
    {
      "cell_type": "markdown",
      "source": [
        "# **Creating SparkSession & DataFrame**\n",
        "Creating a SparkSession is a basic step to work with PySpark"
      ],
      "metadata": {
        "id": "MK6afVWlcyYQ"
      }
    },
    {
      "cell_type": "code",
      "execution_count": 5,
      "metadata": {
        "colab": {
          "base_uri": "https://localhost:8080/",
          "height": 382
        },
        "id": "fvnTpwGIbRoa",
        "outputId": "217f4739-9c6c-4536-ba40-dbe36dc65291"
      },
      "outputs": [
        {
          "output_type": "error",
          "ename": "ModuleNotFoundError",
          "evalue": "ignored",
          "traceback": [
            "\u001b[0;31m---------------------------------------------------------------------------\u001b[0m",
            "\u001b[0;31mModuleNotFoundError\u001b[0m                       Traceback (most recent call last)",
            "\u001b[0;32m<ipython-input-5-f0c9fe892499>\u001b[0m in \u001b[0;36m<cell line: 2>\u001b[0;34m()\u001b[0m\n\u001b[1;32m      1\u001b[0m \u001b[0;31m# Imports\u001b[0m\u001b[0;34m\u001b[0m\u001b[0;34m\u001b[0m\u001b[0m\n\u001b[0;32m----> 2\u001b[0;31m \u001b[0;32mfrom\u001b[0m \u001b[0mpyspark\u001b[0m\u001b[0;34m.\u001b[0m\u001b[0msql\u001b[0m \u001b[0;32mimport\u001b[0m \u001b[0mSparkSession\u001b[0m\u001b[0;34m\u001b[0m\u001b[0;34m\u001b[0m\u001b[0m\n\u001b[0m\u001b[1;32m      3\u001b[0m \u001b[0;34m\u001b[0m\u001b[0m\n\u001b[1;32m      4\u001b[0m \u001b[0;34m\u001b[0m\u001b[0m\n",
            "\u001b[0;31mModuleNotFoundError\u001b[0m: No module named 'pyspark'",
            "",
            "\u001b[0;31m---------------------------------------------------------------------------\u001b[0;32m\nNOTE: If your import is failing due to a missing package, you can\nmanually install dependencies using either !pip or !apt.\n\nTo view examples of installing some common dependencies, click the\n\"Open Examples\" button below.\n\u001b[0;31m---------------------------------------------------------------------------\u001b[0m\n"
          ],
          "errorDetails": {
            "actions": [
              {
                "action": "open_url",
                "actionText": "Open Examples",
                "url": "/notebooks/snippets/importing_libraries.ipynb"
              }
            ]
          }
        }
      ],
      "source": [
        "# Imports\n",
        "from pyspark.sql import SparkSession\n",
        "\n",
        "# Follow pyspark installation guide on Telegram chatGPT."
      ]
    },
    {
      "cell_type": "code",
      "source": [
        "# Creating SparkSession\n",
        "\n",
        "spark = SparkSession.builder\n",
        "            .appName('SparkByExamples.com')\n",
        "            .config(\"spark.jars\",\"mysql-connector-java-6.0.6.jar\")\n",
        "            .getOrCreate()"
      ],
      "metadata": {
        "id": "yi0edwszffWp"
      },
      "execution_count": null,
      "outputs": []
    },
    {
      "cell_type": "code",
      "source": [
        "sampleDF = spark.sparkContext.parallelize(data).toDF(columns)"
      ],
      "metadata": {
        "id": "zK_RgX9Zgwzl"
      },
      "execution_count": null,
      "outputs": []
    },
    {
      "cell_type": "code",
      "source": [
        "# Write to SQL Table\n",
        "sampleDF.write \\\n",
        "  .format(\"com.microsoft.sqlserver.jdbc.spark\") \\\n",
        "  .mode(\"overwrite\") \\\n",
        "  .option(\"url\", \"jdbc:sqlserver://{SERVER_ADDR};databaseName=emp;\") \\\n",
        "  .option(\"dbtable\", \"employee\") \\\n",
        "  .option(\"user\", \"replace_user_name\") \\\n",
        "  .option(\"password\", \"replace_password\") \\\n",
        "  .save()\n",
        "\n",
        "\n",
        "  # Here, used mode(\"overwrite\") means if the table already exists with rows,...\n",
        "  # ...overwrite the table with the rows from the DataFrame.\n",
        "  # The overwrite mode first drops the table if it already exists in the database."
      ],
      "metadata": {
        "id": "gK-aGAGyk9yc"
      },
      "execution_count": null,
      "outputs": []
    },
    {
      "cell_type": "code",
      "source": [
        "# Read from SQL Table\n",
        "df = spark.read \\\n",
        "  .format(\"com.microsoft.sqlserver.jdbc.spark\") \\\n",
        "  .option(\"url\", \"jdbc:sqlserver://{SERVER_ADDR};databaseName=emp;\") \\\n",
        "  .option(\"dbtable\", \"employee\") \\\n",
        "  .option(\"user\", \"replace_user_name\") \\\n",
        "  .option(\"password\", \"replace_password\") \\\n",
        "  .load()\n",
        "\n",
        "df.show()\n",
        "\n"
      ],
      "metadata": {
        "id": "20WFYdyklaO3"
      },
      "execution_count": null,
      "outputs": []
    },
    {
      "cell_type": "code",
      "source": [
        "# Select Specific Columns to Read\n",
        "# Read from SQL Table\n",
        "df = spark.read \\\n",
        "  .format(\"com.microsoft.sqlserver.jdbc.spark\") \\\n",
        "  .option(\"url\", \"jdbc:sqlserver://{SERVER_ADDR};databaseName=emp;\") \\\n",
        "  .option(\"dbtable\", \"select id,age from employee where gender='M'\") \\\n",
        "  .option(\"user\", \"replace_user_name\") \\\n",
        "  .option(\"password\", \"replace_password\") \\\n",
        "  .load()\n",
        "\n",
        "df.show()\n"
      ],
      "metadata": {
        "id": "ZgSq3CGsliPz"
      },
      "execution_count": null,
      "outputs": []
    },
    {
      "cell_type": "code",
      "source": [
        "# APPEND TABLE\n",
        "# Write to SQL Table\n",
        "sampleDF.write \\\n",
        "  .format(\"com.microsoft.sqlserver.jdbc.spark\") \\\n",
        "  .mode(\"append\") \\\n",
        "  .option(\"url\", \"jdbc:sqlserver://{SERVER_ADDR};databaseName=emp;\") \\\n",
        "  .option(\"dbtable\", \"employee\") \\\n",
        "  .option(\"user\", \"replace_user_name\") \\\n",
        "  .option(\"password\", \"replace_password\") \\\n",
        "  .save()\n",
        "\n",
        "# Use spark.write.mode(\"append\") to append the rows to the existing SQL Server table."
      ],
      "metadata": {
        "id": "omynEr_TlspT"
      },
      "execution_count": null,
      "outputs": []
    },
    {
      "cell_type": "code",
      "source": [
        "# COMPLETE EXAMPLE\n",
        "# Imports\n",
        "from pyspark.sql import SparkSession\n",
        "\n",
        "# Create SparkSession\n",
        "spark = SparkSession.builder\n",
        "           .appName('SparkByExamples.com')\n",
        "           .config(\"spark.jars\", \"mysql-connector-java-6.0.6.jar\")\n",
        "           .getOrCreate()\n",
        "\n",
        "# Create DataFrame\n",
        "columns = [\"id\", \"name\",\"age\",\"gender\"]\n",
        "data = [(1, \"James\",30,\"M\"), (2, \"Ann\",40,\"F\"),\n",
        "    (3, \"Jeff\",41,\"M\"),(4, \"Jennifer\",20,\"F\")]\n",
        "\n",
        "sampleDF = spark.sparkContext.parallelize(data).toDF(columns)\n",
        "\n",
        "# Write to SQL Table\n",
        "sampleDF.write \\\n",
        "  .format(\"com.microsoft.sqlserver.jdbc.spark\") \\\n",
        "  .mode(\"overwrite\") \\\n",
        "  .option(\"url\", \"jdbc:sqlserver://{SERVER_ADDR};databaseName=emp;\") \\\n",
        "  .option(\"dbtable\", \"employee\") \\\n",
        "  .option(\"user\", \"replace_user_name\") \\\n",
        "  .option(\"password\", \"replace_password\") \\\n",
        "  .save()\n",
        "\n",
        "# Read from SQL Table\n",
        "df = spark.read \\\n",
        "  .format(\"com.microsoft.sqlserver.jdbc.spark\") \\\n",
        "  .option(\"url\", \"jdbc:sqlserver://{SERVER_ADDR};databaseName=emp;\") \\\n",
        "  .option(\"dbtable\", \"employee\") \\\n",
        "  .option(\"user\", \"replace_user_name\") \\\n",
        "  .option(\"password\", \"replace_password\") \\\n",
        "  .load()\n",
        "\n",
        "df.show()\n"
      ],
      "metadata": {
        "id": "buwrqp8uowWu"
      },
      "execution_count": null,
      "outputs": []
    }
  ]
}